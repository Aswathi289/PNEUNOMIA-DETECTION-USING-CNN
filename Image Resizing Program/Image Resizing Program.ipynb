{
 "cells": [
  {
   "cell_type": "code",
   "execution_count": 1,
   "id": "7e40050c",
   "metadata": {},
   "outputs": [],
   "source": [
    "from PIL import Image\n",
    "import os"
   ]
  },
  {
   "cell_type": "code",
   "execution_count": 3,
   "id": "5b877170",
   "metadata": {},
   "outputs": [],
   "source": [
    "folder_path = r\"C:\\Users\\ACER\\Desktop\\Jupyter\\Project v2 (PNCT)\\v2 Dataset 5.1 (TB replaced with Belarus)\\val\\TUBERCULOSIS\"\n",
    "output_folder = r\"C:\\Users\\ACER\\Desktop\\Jupyter\\Project v2 (PNCT)\\v2 Dataset 5.1 (TB replaced with Belarus)\\val\\TUBERCULOSIS\\resized1000\"\n",
    "size = (1000, 1000)\n",
    "\n",
    "for filename in os.listdir(folder_path):\n",
    "    if filename.endswith(\".jpg\") or filename.endswith(\".png\"):  # Update the file extensions as per your image format\n",
    "        image_path = os.path.join(folder_path, filename)\n",
    "        image = Image.open(image_path)\n",
    "        resized_image = image.resize(size)\n",
    "        output_path = os.path.join(output_folder, filename)\n",
    "        resized_image.save(output_path)"
   ]
  }
 ],
 "metadata": {
  "kernelspec": {
   "display_name": "Python 3 (ipykernel)",
   "language": "python",
   "name": "python3"
  },
  "language_info": {
   "codemirror_mode": {
    "name": "ipython",
    "version": 3
   },
   "file_extension": ".py",
   "mimetype": "text/x-python",
   "name": "python",
   "nbconvert_exporter": "python",
   "pygments_lexer": "ipython3",
   "version": "3.10.9"
  }
 },
 "nbformat": 4,
 "nbformat_minor": 5
}
